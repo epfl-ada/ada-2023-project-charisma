{
 "cells": [
  {
   "cell_type": "code",
   "execution_count": 1,
   "metadata": {},
   "outputs": [
    {
     "name": "stderr",
     "output_type": "stream",
     "text": [
      "/Users/sam/opt/miniconda3/envs/ada/lib/python3.9/site-packages/pandas/core/arraylike.py:396: RuntimeWarning:\n",
      "\n",
      "invalid value encountered in log\n",
      "\n"
     ]
    },
    {
     "ename": "TypeError",
     "evalue": "pie_chart() got an unexpected keyword argument 'startangle'",
     "output_type": "error",
     "traceback": [
      "\u001b[0;31m---------------------------------------------------------------------------\u001b[0m",
      "\u001b[0;31mTypeError\u001b[0m                                 Traceback (most recent call last)",
      "\u001b[1;32m/Users/sam/EPFL/ADA-Projet/ada-2023-project-charisma/test.ipynb Cell 1\u001b[0m line \u001b[0;36m4\n\u001b[1;32m     <a href='vscode-notebook-cell:/Users/sam/EPFL/ADA-Projet/ada-2023-project-charisma/test.ipynb#W0sZmlsZQ%3D%3D?line=36'>37</a>\u001b[0m histogram(x\u001b[39m=\u001b[39mdf[\u001b[39m'\u001b[39m\u001b[39mY_column\u001b[39m\u001b[39m'\u001b[39m], bins\u001b[39m=\u001b[39m\u001b[39m20\u001b[39m, xscale\u001b[39m=\u001b[39m\u001b[39m'\u001b[39m\u001b[39mlinear\u001b[39m\u001b[39m'\u001b[39m, yscale\u001b[39m=\u001b[39m\u001b[39m'\u001b[39m\u001b[39mlinear\u001b[39m\u001b[39m'\u001b[39m, title\u001b[39m=\u001b[39m\u001b[39m'\u001b[39m\u001b[39mHistogram Test\u001b[39m\u001b[39m'\u001b[39m,\n\u001b[1;32m     <a href='vscode-notebook-cell:/Users/sam/EPFL/ADA-Projet/ada-2023-project-charisma/test.ipynb#W0sZmlsZQ%3D%3D?line=37'>38</a>\u001b[0m           xlabel\u001b[39m=\u001b[39m\u001b[39m'\u001b[39m\u001b[39mValues\u001b[39m\u001b[39m'\u001b[39m, ylabel\u001b[39m=\u001b[39m\u001b[39m'\u001b[39m\u001b[39mFrequency\u001b[39m\u001b[39m'\u001b[39m, xlim\u001b[39m=\u001b[39m(\u001b[39m0\u001b[39m, \u001b[39m1\u001b[39m), ylim\u001b[39m=\u001b[39m(\u001b[39m0\u001b[39m, \u001b[39m30\u001b[39m), remove_outliers\u001b[39m=\u001b[39m\u001b[39mTrue\u001b[39;00m, threshold\u001b[39m=\u001b[39m\u001b[39m0.7\u001b[39m, filename\u001b[39m=\u001b[39m\u001b[39m'\u001b[39m\u001b[39mhistogram_test.html\u001b[39m\u001b[39m'\u001b[39m)\n\u001b[1;32m     <a href='vscode-notebook-cell:/Users/sam/EPFL/ADA-Projet/ada-2023-project-charisma/test.ipynb#W0sZmlsZQ%3D%3D?line=39'>40</a>\u001b[0m \u001b[39m# Test the pie chart function\u001b[39;00m\n\u001b[0;32m---> <a href='vscode-notebook-cell:/Users/sam/EPFL/ADA-Projet/ada-2023-project-charisma/test.ipynb#W0sZmlsZQ%3D%3D?line=40'>41</a>\u001b[0m pie_chart(data\u001b[39m=\u001b[39;49m[\u001b[39m25\u001b[39;49m, \u001b[39m35\u001b[39;49m, \u001b[39m40\u001b[39;49m], labels\u001b[39m=\u001b[39;49m[\u001b[39m'\u001b[39;49m\u001b[39mA\u001b[39;49m\u001b[39m'\u001b[39;49m, \u001b[39m'\u001b[39;49m\u001b[39mB\u001b[39;49m\u001b[39m'\u001b[39;49m, \u001b[39m'\u001b[39;49m\u001b[39mC\u001b[39;49m\u001b[39m'\u001b[39;49m], title\u001b[39m=\u001b[39;49m\u001b[39m'\u001b[39;49m\u001b[39mPie Chart Test\u001b[39;49m\u001b[39m'\u001b[39;49m,\n\u001b[1;32m     <a href='vscode-notebook-cell:/Users/sam/EPFL/ADA-Projet/ada-2023-project-charisma/test.ipynb#W0sZmlsZQ%3D%3D?line=41'>42</a>\u001b[0m           startangle\u001b[39m=\u001b[39;49m\u001b[39m90\u001b[39;49m, pctdistance\u001b[39m=\u001b[39;49m\u001b[39m0.8\u001b[39;49m, filename\u001b[39m=\u001b[39;49m\u001b[39m'\u001b[39;49m\u001b[39mpie_chart_test.html\u001b[39;49m\u001b[39m'\u001b[39;49m)\n\u001b[1;32m     <a href='vscode-notebook-cell:/Users/sam/EPFL/ADA-Projet/ada-2023-project-charisma/test.ipynb#W0sZmlsZQ%3D%3D?line=43'>44</a>\u001b[0m \u001b[39m# Test the pair grid with p-values function\u001b[39;00m\n\u001b[1;32m     <a href='vscode-notebook-cell:/Users/sam/EPFL/ADA-Projet/ada-2023-project-charisma/test.ipynb#W0sZmlsZQ%3D%3D?line=44'>45</a>\u001b[0m pair_grid_w_p_values(data\u001b[39m=\u001b[39mdf, filename\u001b[39m=\u001b[39m\u001b[39m'\u001b[39m\u001b[39mpair_grid_with_pvalues_test.html\u001b[39m\u001b[39m'\u001b[39m)\n",
      "\u001b[0;31mTypeError\u001b[0m: pie_chart() got an unexpected keyword argument 'startangle'"
     ]
    }
   ],
   "source": [
    "import pandas as pd\n",
    "import numpy as np\n",
    "import seaborn as sns\n",
    "import matplotlib.pyplot as plt\n",
    "from scipy.stats import pearsonr\n",
    "from plot_helpers_html import *\n",
    "\n",
    "# Function definitions (copy the definitions from the previous responses)\n",
    "\n",
    "# Generate sample data\n",
    "np.random.seed(42)\n",
    "data_size = 100\n",
    "df = pd.DataFrame({\n",
    "    'X_column': np.random.rand(data_size),\n",
    "    'Y_column': np.random.rand(data_size),\n",
    "    'Group_column': np.random.choice(['A', 'B'], size=data_size),\n",
    "    'Label_column': np.random.choice(['Label1', 'Label2'], size=data_size),\n",
    "})\n",
    "\n",
    "# Test the scatter plot function\n",
    "scatter(data=df, x='X_column', y='Y_column', hue='Group_column', title='Scatter Plot Test',\n",
    "        xlabel='X-axis', ylabel='Y-axis', xlim=(0, 1), ylim=(0, 1), remove_outliers=True, threshold=0.7, filename='scatter_test.html')\n",
    "\n",
    "# Test the box plot function\n",
    "box(data=df, x='Group_column', y='Y_column', labels='Label_column', title='Box Plot Test',\n",
    "    xlabel='Categories', ylabel='Values', ylim=(0, 1), log=True, filename='box_test.html')\n",
    "\n",
    "# Test the violin plot function\n",
    "violin(data=df, x='Group_column', y='Y_column', labels='Label_column', title='Violin Plot Test',\n",
    "       xlabel='Categories', ylabel='Values', ylim=(0, 1), log=True, filename='violin_test.html')\n",
    "\n",
    "# Test the line plot function\n",
    "line(data=df, x='X_column', y='Y_column', hue='Group_column', title='Line Plot Test',\n",
    "     xlabel='X-axis', ylabel='Y-axis', remove_outliers=True, threshold=0.7, xlim=(0, 1), ylim=(0, 1), filename='line_test.html')\n",
    "\n",
    "# Test the histogram function\n",
    "histogram(x=df['Y_column'], bins=20, xscale='linear', yscale='linear', title='Histogram Test',\n",
    "          xlabel='Values', ylabel='Frequency', xlim=(0, 1), ylim=(0, 30), remove_outliers=True, threshold=0.7, filename='histogram_test.html')\n",
    "\n",
    "# Test the pie chart function\n",
    "pie_chart(data=[25, 35, 40], labels=['A', 'B', 'C'], title='Pie Chart Test', filename='pie_chart_test.html')\n",
    "\n",
    "\n",
    "# Test the pair grid with p-values function\n",
    "pair_grid_w_p_values(data=df, filename='pair_grid_with_pvalues_test.html')\n"
   ]
  },
  {
   "cell_type": "code",
   "execution_count": null,
   "metadata": {},
   "outputs": [],
   "source": []
  }
 ],
 "metadata": {
  "kernelspec": {
   "display_name": "ada",
   "language": "python",
   "name": "python3"
  },
  "language_info": {
   "codemirror_mode": {
    "name": "ipython",
    "version": 3
   },
   "file_extension": ".py",
   "mimetype": "text/x-python",
   "name": "python",
   "nbconvert_exporter": "python",
   "pygments_lexer": "ipython3",
   "version": "3.9.18"
  }
 },
 "nbformat": 4,
 "nbformat_minor": 2
}
